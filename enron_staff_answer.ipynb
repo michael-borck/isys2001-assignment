{
  "nbformat": 4,
  "nbformat_minor": 0,
  "metadata": {
    "colab": {
      "name": "enron_staff_answer.ipynb",
      "provenance": [],
      "authorship_tag": "ABX9TyPcCPuz6MYPvb9wdSMpSLR6",
      "include_colab_link": true
    },
    "kernelspec": {
      "name": "python3",
      "display_name": "Python 3"
    },
    "language_info": {
      "name": "python"
    }
  },
  "cells": [
    {
      "cell_type": "markdown",
      "metadata": {
        "id": "view-in-github",
        "colab_type": "text"
      },
      "source": [
        "<a href=\"https://colab.research.google.com/github/michael-borck/isys2001-assignment/blob/main/enron_staff_answer.ipynb\" target=\"_parent\"><img src=\"https://colab.research.google.com/assets/colab-badge.svg\" alt=\"Open In Colab\"/></a>"
      ]
    },
    {
      "cell_type": "markdown",
      "source": [
        "# Enron Email Analysis\n",
        "\n",
        "This notebook is an initial investigation into Enron emails.  It uses the publicly available Enron e-mail dataset. This is a very famous dataset consisting of e-mail messages sent to, from, and between employees working at the now-defunct Enron Corporation. As part of the U.S. Government investigation into accounting fraud at Enron, the e-mails became part of the public record and are now downloadable by anyone. \n",
        "\n",
        "This report will focus on two areas:\n",
        "\n",
        "* the volume of daily emails\n",
        "* who were the greatest communicators\n",
        "\n",
        "We will only consider emails sent between....\n",
        "\n",
        "\n",
        "First, we need to download the MySQL Enron corpus using the instructions at http://www.ahschulz.de/enron-email-data/.  The data is now ready to be queried using either the MySQL command-line interface or using a web-based tool such as PHPMyAdmin.\n",
        "\n",
        "\n",
        "# Report Format\n",
        "\n",
        "This report is provided as an interactive notebook.  It is designed to run on the Google Colab environment.  You can either read the report as provided or inspect and rerun the code alowing you to verify the analysis."
      ],
      "metadata": {
        "id": "iKhcja8wjOQ3"
      }
    },
    {
      "cell_type": "markdown",
      "source": [
        "Right away, we notice that numerous e-mails have incorrect dates, for example, there are a number of dates that seem to predate or postdate the existence of the corporation (for example, 1979) or that were from years that were illogical\n",
        "(for example, 0001 or 2044). E-mail is old but not that old!\n",
        "The following table shows an excerpt of a few of the weird lines (the complete result set is about 1300 rows long) All of these dates are formatted correctly; however, some of the dates are definitely wrong:"
      ],
      "metadata": {
        "id": "X-ho-iMIo-g9"
      }
    },
    {
      "cell_type": "code",
      "execution_count": null,
      "metadata": {
        "id": "OHHA3UAgiRFj"
      },
      "outputs": [],
      "source": [
        "#@title\n",
        "\n",
        "# import the require packages\n",
        "import pandas as pd\n",
        "import matplotlib.pyplot as plt\n",
        "import sqlite3\n",
        "import os\n",
        "\n",
        "\n",
        "# Copy the Enron Email database\n",
        "if not os.path.exists('enron.db'):\n",
        "  from IPython.display import clear_output \n",
        "  !wget -O enron.db https://curtin-my.sharepoint.com/:u:/g/personal/211934g_curtin_edu_au/EaYagsqa2r1Bi5wtHbswGFwBH2kd2uTnz6rlka7GI36GUQ?download=1\n",
        "  clear_output()\n",
        "  print('Copied Enron database')\n",
        "\n",
        " \n",
        "# connect to the database\n",
        "con = sqlite3.connect('enron.db')\n",
        " \n",
        "# create a variable to store the query\n",
        "SQL = '''\n",
        "    SELECT date(date) AS date_sent, count(mid) AS message_count\n",
        "        FROM message\n",
        "        WHERE date_sent BETWEEN '1998-01-01' AND '2002-12-31'\n",
        "        GROUP BY date_sent\n",
        "        ORDER BY date_sent;\n",
        "'''\n",
        " \n",
        "# Load the query into a dataframe\n",
        "df = pd.read_sql(SQL, con)\n",
        "\n",
        "# Plot the date_df\n",
        "df.plot(x = 'date_sent', \n",
        "        y = 'message_count',\n",
        "        title = 'Sender and Message count',\n",
        "        xlabel = 'Date',\n",
        "        ylabel = 'Message Count',\n",
        "        figsize = (10,20)\n",
        "        )\n",
        "\n",
        "# Rotate and Name the Title and Labels\n",
        "plt.xticks(rotation=40, horizontalalignment=\"center\")"
      ]
    },
    {
      "cell_type": "markdown",
      "source": [
        "# Discussions\n",
        "\n",
        "The line graphs reveal that Enron had several significant peaks in e-mail traffic. The largest peaks and heaviest traffic occurred in the October and November of 2001, when the scandal broke. The two smaller peaks occurred around June 26-27 of 2001 and December 12-13 of 2000, when similar newsworthy events involving Enron transpired (one involving the California energy crisis and another involving a leadership change at the company).\n"
      ],
      "metadata": {
        "id": "Ht2pzAaGpXwM"
      }
    },
    {
      "cell_type": "markdown",
      "source": [
        "# References\n",
        "\n"
      ],
      "metadata": {
        "id": "DBPzZ3M1kzuq"
      }
    }
  ]
}